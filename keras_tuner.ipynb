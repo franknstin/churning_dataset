{
 "cells": [
  {
   "cell_type": "code",
   "execution_count": 97,
   "metadata": {},
   "outputs": [],
   "source": [
    "import pandas as pd\n",
    "import numpy as np\n",
    "import matplotlib.pyplot as plt"
   ]
  },
  {
   "cell_type": "code",
   "execution_count": 57,
   "metadata": {},
   "outputs": [],
   "source": [
    "df = pd.read_csv('Churn_Modelling.csv')"
   ]
  },
  {
   "cell_type": "code",
   "execution_count": 58,
   "metadata": {},
   "outputs": [
    {
     "data": {
      "text/plain": [
       "(10000, 14)"
      ]
     },
     "execution_count": 58,
     "metadata": {},
     "output_type": "execute_result"
    }
   ],
   "source": [
    "df.shape"
   ]
  },
  {
   "cell_type": "code",
   "execution_count": 59,
   "metadata": {},
   "outputs": [],
   "source": [
    "X = df.iloc[:,3:13]\n",
    "Y = df.iloc[:,13]"
   ]
  },
  {
   "cell_type": "code",
   "execution_count": 60,
   "metadata": {},
   "outputs": [
    {
     "data": {
      "text/plain": [
       "0       1\n",
       "1       0\n",
       "2       1\n",
       "3       0\n",
       "4       0\n",
       "       ..\n",
       "9995    0\n",
       "9996    0\n",
       "9997    1\n",
       "9998    1\n",
       "9999    0\n",
       "Name: Exited, Length: 10000, dtype: int64"
      ]
     },
     "execution_count": 60,
     "metadata": {},
     "output_type": "execute_result"
    }
   ],
   "source": [
    "Y"
   ]
  },
  {
   "cell_type": "code",
   "execution_count": 61,
   "metadata": {},
   "outputs": [
    {
     "data": {
      "text/html": [
       "<div>\n",
       "<style scoped>\n",
       "    .dataframe tbody tr th:only-of-type {\n",
       "        vertical-align: middle;\n",
       "    }\n",
       "\n",
       "    .dataframe tbody tr th {\n",
       "        vertical-align: top;\n",
       "    }\n",
       "\n",
       "    .dataframe thead th {\n",
       "        text-align: right;\n",
       "    }\n",
       "</style>\n",
       "<table border=\"1\" class=\"dataframe\">\n",
       "  <thead>\n",
       "    <tr style=\"text-align: right;\">\n",
       "      <th></th>\n",
       "      <th>CreditScore</th>\n",
       "      <th>Geography</th>\n",
       "      <th>Gender</th>\n",
       "      <th>Age</th>\n",
       "      <th>Tenure</th>\n",
       "      <th>Balance</th>\n",
       "      <th>NumOfProducts</th>\n",
       "      <th>HasCrCard</th>\n",
       "      <th>IsActiveMember</th>\n",
       "      <th>EstimatedSalary</th>\n",
       "    </tr>\n",
       "  </thead>\n",
       "  <tbody>\n",
       "    <tr>\n",
       "      <th>0</th>\n",
       "      <td>619</td>\n",
       "      <td>France</td>\n",
       "      <td>Female</td>\n",
       "      <td>42</td>\n",
       "      <td>2</td>\n",
       "      <td>0.00</td>\n",
       "      <td>1</td>\n",
       "      <td>1</td>\n",
       "      <td>1</td>\n",
       "      <td>101348.88</td>\n",
       "    </tr>\n",
       "    <tr>\n",
       "      <th>1</th>\n",
       "      <td>608</td>\n",
       "      <td>Spain</td>\n",
       "      <td>Female</td>\n",
       "      <td>41</td>\n",
       "      <td>1</td>\n",
       "      <td>83807.86</td>\n",
       "      <td>1</td>\n",
       "      <td>0</td>\n",
       "      <td>1</td>\n",
       "      <td>112542.58</td>\n",
       "    </tr>\n",
       "    <tr>\n",
       "      <th>2</th>\n",
       "      <td>502</td>\n",
       "      <td>France</td>\n",
       "      <td>Female</td>\n",
       "      <td>42</td>\n",
       "      <td>8</td>\n",
       "      <td>159660.80</td>\n",
       "      <td>3</td>\n",
       "      <td>1</td>\n",
       "      <td>0</td>\n",
       "      <td>113931.57</td>\n",
       "    </tr>\n",
       "    <tr>\n",
       "      <th>3</th>\n",
       "      <td>699</td>\n",
       "      <td>France</td>\n",
       "      <td>Female</td>\n",
       "      <td>39</td>\n",
       "      <td>1</td>\n",
       "      <td>0.00</td>\n",
       "      <td>2</td>\n",
       "      <td>0</td>\n",
       "      <td>0</td>\n",
       "      <td>93826.63</td>\n",
       "    </tr>\n",
       "    <tr>\n",
       "      <th>4</th>\n",
       "      <td>850</td>\n",
       "      <td>Spain</td>\n",
       "      <td>Female</td>\n",
       "      <td>43</td>\n",
       "      <td>2</td>\n",
       "      <td>125510.82</td>\n",
       "      <td>1</td>\n",
       "      <td>1</td>\n",
       "      <td>1</td>\n",
       "      <td>79084.10</td>\n",
       "    </tr>\n",
       "    <tr>\n",
       "      <th>...</th>\n",
       "      <td>...</td>\n",
       "      <td>...</td>\n",
       "      <td>...</td>\n",
       "      <td>...</td>\n",
       "      <td>...</td>\n",
       "      <td>...</td>\n",
       "      <td>...</td>\n",
       "      <td>...</td>\n",
       "      <td>...</td>\n",
       "      <td>...</td>\n",
       "    </tr>\n",
       "    <tr>\n",
       "      <th>9995</th>\n",
       "      <td>771</td>\n",
       "      <td>France</td>\n",
       "      <td>Male</td>\n",
       "      <td>39</td>\n",
       "      <td>5</td>\n",
       "      <td>0.00</td>\n",
       "      <td>2</td>\n",
       "      <td>1</td>\n",
       "      <td>0</td>\n",
       "      <td>96270.64</td>\n",
       "    </tr>\n",
       "    <tr>\n",
       "      <th>9996</th>\n",
       "      <td>516</td>\n",
       "      <td>France</td>\n",
       "      <td>Male</td>\n",
       "      <td>35</td>\n",
       "      <td>10</td>\n",
       "      <td>57369.61</td>\n",
       "      <td>1</td>\n",
       "      <td>1</td>\n",
       "      <td>1</td>\n",
       "      <td>101699.77</td>\n",
       "    </tr>\n",
       "    <tr>\n",
       "      <th>9997</th>\n",
       "      <td>709</td>\n",
       "      <td>France</td>\n",
       "      <td>Female</td>\n",
       "      <td>36</td>\n",
       "      <td>7</td>\n",
       "      <td>0.00</td>\n",
       "      <td>1</td>\n",
       "      <td>0</td>\n",
       "      <td>1</td>\n",
       "      <td>42085.58</td>\n",
       "    </tr>\n",
       "    <tr>\n",
       "      <th>9998</th>\n",
       "      <td>772</td>\n",
       "      <td>Germany</td>\n",
       "      <td>Male</td>\n",
       "      <td>42</td>\n",
       "      <td>3</td>\n",
       "      <td>75075.31</td>\n",
       "      <td>2</td>\n",
       "      <td>1</td>\n",
       "      <td>0</td>\n",
       "      <td>92888.52</td>\n",
       "    </tr>\n",
       "    <tr>\n",
       "      <th>9999</th>\n",
       "      <td>792</td>\n",
       "      <td>France</td>\n",
       "      <td>Female</td>\n",
       "      <td>28</td>\n",
       "      <td>4</td>\n",
       "      <td>130142.79</td>\n",
       "      <td>1</td>\n",
       "      <td>1</td>\n",
       "      <td>0</td>\n",
       "      <td>38190.78</td>\n",
       "    </tr>\n",
       "  </tbody>\n",
       "</table>\n",
       "<p>10000 rows × 10 columns</p>\n",
       "</div>"
      ],
      "text/plain": [
       "      CreditScore Geography  Gender  Age  Tenure    Balance  NumOfProducts  \\\n",
       "0             619    France  Female   42       2       0.00              1   \n",
       "1             608     Spain  Female   41       1   83807.86              1   \n",
       "2             502    France  Female   42       8  159660.80              3   \n",
       "3             699    France  Female   39       1       0.00              2   \n",
       "4             850     Spain  Female   43       2  125510.82              1   \n",
       "...           ...       ...     ...  ...     ...        ...            ...   \n",
       "9995          771    France    Male   39       5       0.00              2   \n",
       "9996          516    France    Male   35      10   57369.61              1   \n",
       "9997          709    France  Female   36       7       0.00              1   \n",
       "9998          772   Germany    Male   42       3   75075.31              2   \n",
       "9999          792    France  Female   28       4  130142.79              1   \n",
       "\n",
       "      HasCrCard  IsActiveMember  EstimatedSalary  \n",
       "0             1               1        101348.88  \n",
       "1             0               1        112542.58  \n",
       "2             1               0        113931.57  \n",
       "3             0               0         93826.63  \n",
       "4             1               1         79084.10  \n",
       "...         ...             ...              ...  \n",
       "9995          1               0         96270.64  \n",
       "9996          1               1        101699.77  \n",
       "9997          0               1         42085.58  \n",
       "9998          1               0         92888.52  \n",
       "9999          1               0         38190.78  \n",
       "\n",
       "[10000 rows x 10 columns]"
      ]
     },
     "execution_count": 61,
     "metadata": {},
     "output_type": "execute_result"
    }
   ],
   "source": [
    "X"
   ]
  },
  {
   "cell_type": "code",
   "execution_count": 62,
   "metadata": {},
   "outputs": [
    {
     "data": {
      "text/plain": [
       "0"
      ]
     },
     "execution_count": 62,
     "metadata": {},
     "output_type": "execute_result"
    }
   ],
   "source": [
    "Y.isnull().sum()"
   ]
  },
  {
   "cell_type": "code",
   "execution_count": 63,
   "metadata": {},
   "outputs": [
    {
     "data": {
      "text/plain": [
       "CreditScore        0\n",
       "Geography          0\n",
       "Gender             0\n",
       "Age                0\n",
       "Tenure             0\n",
       "Balance            0\n",
       "NumOfProducts      0\n",
       "HasCrCard          0\n",
       "IsActiveMember     0\n",
       "EstimatedSalary    0\n",
       "dtype: int64"
      ]
     },
     "execution_count": 63,
     "metadata": {},
     "output_type": "execute_result"
    }
   ],
   "source": [
    "X.isnull().sum()"
   ]
  },
  {
   "cell_type": "code",
   "execution_count": 64,
   "metadata": {},
   "outputs": [
    {
     "data": {
      "text/plain": [
       "array(['France', 'Spain', 'Germany'], dtype=object)"
      ]
     },
     "execution_count": 64,
     "metadata": {},
     "output_type": "execute_result"
    }
   ],
   "source": [
    "X['Geography'].unique()"
   ]
  },
  {
   "cell_type": "code",
   "execution_count": 65,
   "metadata": {},
   "outputs": [],
   "source": [
    "geography = pd.get_dummies(X.Geography, drop_first=True )"
   ]
  },
  {
   "cell_type": "code",
   "execution_count": 66,
   "metadata": {},
   "outputs": [
    {
     "data": {
      "text/html": [
       "<div>\n",
       "<style scoped>\n",
       "    .dataframe tbody tr th:only-of-type {\n",
       "        vertical-align: middle;\n",
       "    }\n",
       "\n",
       "    .dataframe tbody tr th {\n",
       "        vertical-align: top;\n",
       "    }\n",
       "\n",
       "    .dataframe thead th {\n",
       "        text-align: right;\n",
       "    }\n",
       "</style>\n",
       "<table border=\"1\" class=\"dataframe\">\n",
       "  <thead>\n",
       "    <tr style=\"text-align: right;\">\n",
       "      <th></th>\n",
       "      <th>Germany</th>\n",
       "      <th>Spain</th>\n",
       "    </tr>\n",
       "  </thead>\n",
       "  <tbody>\n",
       "    <tr>\n",
       "      <th>0</th>\n",
       "      <td>0</td>\n",
       "      <td>0</td>\n",
       "    </tr>\n",
       "    <tr>\n",
       "      <th>1</th>\n",
       "      <td>0</td>\n",
       "      <td>1</td>\n",
       "    </tr>\n",
       "    <tr>\n",
       "      <th>2</th>\n",
       "      <td>0</td>\n",
       "      <td>0</td>\n",
       "    </tr>\n",
       "    <tr>\n",
       "      <th>3</th>\n",
       "      <td>0</td>\n",
       "      <td>0</td>\n",
       "    </tr>\n",
       "    <tr>\n",
       "      <th>4</th>\n",
       "      <td>0</td>\n",
       "      <td>1</td>\n",
       "    </tr>\n",
       "    <tr>\n",
       "      <th>...</th>\n",
       "      <td>...</td>\n",
       "      <td>...</td>\n",
       "    </tr>\n",
       "    <tr>\n",
       "      <th>9995</th>\n",
       "      <td>0</td>\n",
       "      <td>0</td>\n",
       "    </tr>\n",
       "    <tr>\n",
       "      <th>9996</th>\n",
       "      <td>0</td>\n",
       "      <td>0</td>\n",
       "    </tr>\n",
       "    <tr>\n",
       "      <th>9997</th>\n",
       "      <td>0</td>\n",
       "      <td>0</td>\n",
       "    </tr>\n",
       "    <tr>\n",
       "      <th>9998</th>\n",
       "      <td>1</td>\n",
       "      <td>0</td>\n",
       "    </tr>\n",
       "    <tr>\n",
       "      <th>9999</th>\n",
       "      <td>0</td>\n",
       "      <td>0</td>\n",
       "    </tr>\n",
       "  </tbody>\n",
       "</table>\n",
       "<p>10000 rows × 2 columns</p>\n",
       "</div>"
      ],
      "text/plain": [
       "      Germany  Spain\n",
       "0           0      0\n",
       "1           0      1\n",
       "2           0      0\n",
       "3           0      0\n",
       "4           0      1\n",
       "...       ...    ...\n",
       "9995        0      0\n",
       "9996        0      0\n",
       "9997        0      0\n",
       "9998        1      0\n",
       "9999        0      0\n",
       "\n",
       "[10000 rows x 2 columns]"
      ]
     },
     "execution_count": 66,
     "metadata": {},
     "output_type": "execute_result"
    }
   ],
   "source": [
    "geography"
   ]
  },
  {
   "cell_type": "code",
   "execution_count": 67,
   "metadata": {},
   "outputs": [],
   "source": [
    "gender = pd.get_dummies(X.Gender, drop_first=True)"
   ]
  },
  {
   "cell_type": "code",
   "execution_count": 68,
   "metadata": {},
   "outputs": [
    {
     "data": {
      "text/html": [
       "<div>\n",
       "<style scoped>\n",
       "    .dataframe tbody tr th:only-of-type {\n",
       "        vertical-align: middle;\n",
       "    }\n",
       "\n",
       "    .dataframe tbody tr th {\n",
       "        vertical-align: top;\n",
       "    }\n",
       "\n",
       "    .dataframe thead th {\n",
       "        text-align: right;\n",
       "    }\n",
       "</style>\n",
       "<table border=\"1\" class=\"dataframe\">\n",
       "  <thead>\n",
       "    <tr style=\"text-align: right;\">\n",
       "      <th></th>\n",
       "      <th>Male</th>\n",
       "    </tr>\n",
       "  </thead>\n",
       "  <tbody>\n",
       "    <tr>\n",
       "      <th>0</th>\n",
       "      <td>0</td>\n",
       "    </tr>\n",
       "    <tr>\n",
       "      <th>1</th>\n",
       "      <td>0</td>\n",
       "    </tr>\n",
       "    <tr>\n",
       "      <th>2</th>\n",
       "      <td>0</td>\n",
       "    </tr>\n",
       "    <tr>\n",
       "      <th>3</th>\n",
       "      <td>0</td>\n",
       "    </tr>\n",
       "    <tr>\n",
       "      <th>4</th>\n",
       "      <td>0</td>\n",
       "    </tr>\n",
       "    <tr>\n",
       "      <th>...</th>\n",
       "      <td>...</td>\n",
       "    </tr>\n",
       "    <tr>\n",
       "      <th>9995</th>\n",
       "      <td>1</td>\n",
       "    </tr>\n",
       "    <tr>\n",
       "      <th>9996</th>\n",
       "      <td>1</td>\n",
       "    </tr>\n",
       "    <tr>\n",
       "      <th>9997</th>\n",
       "      <td>0</td>\n",
       "    </tr>\n",
       "    <tr>\n",
       "      <th>9998</th>\n",
       "      <td>1</td>\n",
       "    </tr>\n",
       "    <tr>\n",
       "      <th>9999</th>\n",
       "      <td>0</td>\n",
       "    </tr>\n",
       "  </tbody>\n",
       "</table>\n",
       "<p>10000 rows × 1 columns</p>\n",
       "</div>"
      ],
      "text/plain": [
       "      Male\n",
       "0        0\n",
       "1        0\n",
       "2        0\n",
       "3        0\n",
       "4        0\n",
       "...    ...\n",
       "9995     1\n",
       "9996     1\n",
       "9997     0\n",
       "9998     1\n",
       "9999     0\n",
       "\n",
       "[10000 rows x 1 columns]"
      ]
     },
     "execution_count": 68,
     "metadata": {},
     "output_type": "execute_result"
    }
   ],
   "source": [
    "gender"
   ]
  },
  {
   "cell_type": "code",
   "execution_count": 69,
   "metadata": {},
   "outputs": [],
   "source": [
    "X = pd.concat([X, geography, gender], axis=1)"
   ]
  },
  {
   "cell_type": "code",
   "execution_count": 70,
   "metadata": {},
   "outputs": [],
   "source": [
    "X.drop(['Geography', 'Gender'], axis=1, inplace=True)"
   ]
  },
  {
   "cell_type": "code",
   "execution_count": 71,
   "metadata": {},
   "outputs": [
    {
     "data": {
      "text/html": [
       "<div>\n",
       "<style scoped>\n",
       "    .dataframe tbody tr th:only-of-type {\n",
       "        vertical-align: middle;\n",
       "    }\n",
       "\n",
       "    .dataframe tbody tr th {\n",
       "        vertical-align: top;\n",
       "    }\n",
       "\n",
       "    .dataframe thead th {\n",
       "        text-align: right;\n",
       "    }\n",
       "</style>\n",
       "<table border=\"1\" class=\"dataframe\">\n",
       "  <thead>\n",
       "    <tr style=\"text-align: right;\">\n",
       "      <th></th>\n",
       "      <th>CreditScore</th>\n",
       "      <th>Age</th>\n",
       "      <th>Tenure</th>\n",
       "      <th>Balance</th>\n",
       "      <th>NumOfProducts</th>\n",
       "      <th>HasCrCard</th>\n",
       "      <th>IsActiveMember</th>\n",
       "      <th>EstimatedSalary</th>\n",
       "      <th>Germany</th>\n",
       "      <th>Spain</th>\n",
       "      <th>Male</th>\n",
       "    </tr>\n",
       "  </thead>\n",
       "  <tbody>\n",
       "    <tr>\n",
       "      <th>0</th>\n",
       "      <td>619</td>\n",
       "      <td>42</td>\n",
       "      <td>2</td>\n",
       "      <td>0.00</td>\n",
       "      <td>1</td>\n",
       "      <td>1</td>\n",
       "      <td>1</td>\n",
       "      <td>101348.88</td>\n",
       "      <td>0</td>\n",
       "      <td>0</td>\n",
       "      <td>0</td>\n",
       "    </tr>\n",
       "    <tr>\n",
       "      <th>1</th>\n",
       "      <td>608</td>\n",
       "      <td>41</td>\n",
       "      <td>1</td>\n",
       "      <td>83807.86</td>\n",
       "      <td>1</td>\n",
       "      <td>0</td>\n",
       "      <td>1</td>\n",
       "      <td>112542.58</td>\n",
       "      <td>0</td>\n",
       "      <td>1</td>\n",
       "      <td>0</td>\n",
       "    </tr>\n",
       "    <tr>\n",
       "      <th>2</th>\n",
       "      <td>502</td>\n",
       "      <td>42</td>\n",
       "      <td>8</td>\n",
       "      <td>159660.80</td>\n",
       "      <td>3</td>\n",
       "      <td>1</td>\n",
       "      <td>0</td>\n",
       "      <td>113931.57</td>\n",
       "      <td>0</td>\n",
       "      <td>0</td>\n",
       "      <td>0</td>\n",
       "    </tr>\n",
       "    <tr>\n",
       "      <th>3</th>\n",
       "      <td>699</td>\n",
       "      <td>39</td>\n",
       "      <td>1</td>\n",
       "      <td>0.00</td>\n",
       "      <td>2</td>\n",
       "      <td>0</td>\n",
       "      <td>0</td>\n",
       "      <td>93826.63</td>\n",
       "      <td>0</td>\n",
       "      <td>0</td>\n",
       "      <td>0</td>\n",
       "    </tr>\n",
       "    <tr>\n",
       "      <th>4</th>\n",
       "      <td>850</td>\n",
       "      <td>43</td>\n",
       "      <td>2</td>\n",
       "      <td>125510.82</td>\n",
       "      <td>1</td>\n",
       "      <td>1</td>\n",
       "      <td>1</td>\n",
       "      <td>79084.10</td>\n",
       "      <td>0</td>\n",
       "      <td>1</td>\n",
       "      <td>0</td>\n",
       "    </tr>\n",
       "    <tr>\n",
       "      <th>...</th>\n",
       "      <td>...</td>\n",
       "      <td>...</td>\n",
       "      <td>...</td>\n",
       "      <td>...</td>\n",
       "      <td>...</td>\n",
       "      <td>...</td>\n",
       "      <td>...</td>\n",
       "      <td>...</td>\n",
       "      <td>...</td>\n",
       "      <td>...</td>\n",
       "      <td>...</td>\n",
       "    </tr>\n",
       "    <tr>\n",
       "      <th>9995</th>\n",
       "      <td>771</td>\n",
       "      <td>39</td>\n",
       "      <td>5</td>\n",
       "      <td>0.00</td>\n",
       "      <td>2</td>\n",
       "      <td>1</td>\n",
       "      <td>0</td>\n",
       "      <td>96270.64</td>\n",
       "      <td>0</td>\n",
       "      <td>0</td>\n",
       "      <td>1</td>\n",
       "    </tr>\n",
       "    <tr>\n",
       "      <th>9996</th>\n",
       "      <td>516</td>\n",
       "      <td>35</td>\n",
       "      <td>10</td>\n",
       "      <td>57369.61</td>\n",
       "      <td>1</td>\n",
       "      <td>1</td>\n",
       "      <td>1</td>\n",
       "      <td>101699.77</td>\n",
       "      <td>0</td>\n",
       "      <td>0</td>\n",
       "      <td>1</td>\n",
       "    </tr>\n",
       "    <tr>\n",
       "      <th>9997</th>\n",
       "      <td>709</td>\n",
       "      <td>36</td>\n",
       "      <td>7</td>\n",
       "      <td>0.00</td>\n",
       "      <td>1</td>\n",
       "      <td>0</td>\n",
       "      <td>1</td>\n",
       "      <td>42085.58</td>\n",
       "      <td>0</td>\n",
       "      <td>0</td>\n",
       "      <td>0</td>\n",
       "    </tr>\n",
       "    <tr>\n",
       "      <th>9998</th>\n",
       "      <td>772</td>\n",
       "      <td>42</td>\n",
       "      <td>3</td>\n",
       "      <td>75075.31</td>\n",
       "      <td>2</td>\n",
       "      <td>1</td>\n",
       "      <td>0</td>\n",
       "      <td>92888.52</td>\n",
       "      <td>1</td>\n",
       "      <td>0</td>\n",
       "      <td>1</td>\n",
       "    </tr>\n",
       "    <tr>\n",
       "      <th>9999</th>\n",
       "      <td>792</td>\n",
       "      <td>28</td>\n",
       "      <td>4</td>\n",
       "      <td>130142.79</td>\n",
       "      <td>1</td>\n",
       "      <td>1</td>\n",
       "      <td>0</td>\n",
       "      <td>38190.78</td>\n",
       "      <td>0</td>\n",
       "      <td>0</td>\n",
       "      <td>0</td>\n",
       "    </tr>\n",
       "  </tbody>\n",
       "</table>\n",
       "<p>10000 rows × 11 columns</p>\n",
       "</div>"
      ],
      "text/plain": [
       "      CreditScore  Age  Tenure    Balance  NumOfProducts  HasCrCard  \\\n",
       "0             619   42       2       0.00              1          1   \n",
       "1             608   41       1   83807.86              1          0   \n",
       "2             502   42       8  159660.80              3          1   \n",
       "3             699   39       1       0.00              2          0   \n",
       "4             850   43       2  125510.82              1          1   \n",
       "...           ...  ...     ...        ...            ...        ...   \n",
       "9995          771   39       5       0.00              2          1   \n",
       "9996          516   35      10   57369.61              1          1   \n",
       "9997          709   36       7       0.00              1          0   \n",
       "9998          772   42       3   75075.31              2          1   \n",
       "9999          792   28       4  130142.79              1          1   \n",
       "\n",
       "      IsActiveMember  EstimatedSalary  Germany  Spain  Male  \n",
       "0                  1        101348.88        0      0     0  \n",
       "1                  1        112542.58        0      1     0  \n",
       "2                  0        113931.57        0      0     0  \n",
       "3                  0         93826.63        0      0     0  \n",
       "4                  1         79084.10        0      1     0  \n",
       "...              ...              ...      ...    ...   ...  \n",
       "9995               0         96270.64        0      0     1  \n",
       "9996               1        101699.77        0      0     1  \n",
       "9997               1         42085.58        0      0     0  \n",
       "9998               0         92888.52        1      0     1  \n",
       "9999               0         38190.78        0      0     0  \n",
       "\n",
       "[10000 rows x 11 columns]"
      ]
     },
     "execution_count": 71,
     "metadata": {},
     "output_type": "execute_result"
    }
   ],
   "source": [
    "X"
   ]
  },
  {
   "cell_type": "code",
   "execution_count": 73,
   "metadata": {},
   "outputs": [
    {
     "name": "stdout",
     "output_type": "stream",
     "text": [
      "Collecting scikit-learn\n",
      "  Downloading scikit_learn-0.23.2-cp36-cp36m-win_amd64.whl (6.8 MB)\n",
      "Collecting threadpoolctl>=2.0.0\n",
      "  Downloading threadpoolctl-2.1.0-py3-none-any.whl (12 kB)\n",
      "Requirement already satisfied: numpy>=1.13.3 in c:\\users\\anmha\\anaconda3\\envs\\tensorflow2\\lib\\site-packages (from scikit-learn) (1.19.4)\n",
      "Requirement already satisfied: scipy>=0.19.1 in c:\\users\\anmha\\anaconda3\\envs\\tensorflow2\\lib\\site-packages (from scikit-learn) (1.5.4)\n",
      "Collecting joblib>=0.11\n",
      "  Downloading joblib-0.17.0-py3-none-any.whl (301 kB)\n",
      "Installing collected packages: threadpoolctl, joblib, scikit-learn\n",
      "Successfully installed joblib-0.17.0 scikit-learn-0.23.2 threadpoolctl-2.1.0\n"
     ]
    }
   ],
   "source": [
    "!pip install scikit-learn"
   ]
  },
  {
   "cell_type": "code",
   "execution_count": 74,
   "metadata": {},
   "outputs": [],
   "source": [
    "from sklearn.model_selection import train_test_split"
   ]
  },
  {
   "cell_type": "code",
   "execution_count": 75,
   "metadata": {},
   "outputs": [],
   "source": [
    "X_train, X_test, Y_train, Y_test = train_test_split(X, Y, test_size=0.2, random_state=0)"
   ]
  },
  {
   "cell_type": "code",
   "execution_count": 76,
   "metadata": {},
   "outputs": [
    {
     "data": {
      "text/plain": [
       "(8000, 11)"
      ]
     },
     "execution_count": 76,
     "metadata": {},
     "output_type": "execute_result"
    }
   ],
   "source": [
    "X_train.shape"
   ]
  },
  {
   "cell_type": "code",
   "execution_count": null,
   "metadata": {},
   "outputs": [],
   "source": []
  },
  {
   "cell_type": "code",
   "execution_count": 81,
   "metadata": {},
   "outputs": [],
   "source": [
    "from sklearn.preprocessing import StandardScaler\n",
    "sc = StandardScaler()\n",
    "X_train = sc.fit_transform(X_train)\n",
    "X_test = sc.transform(X_test)"
   ]
  },
  {
   "cell_type": "code",
   "execution_count": null,
   "metadata": {},
   "outputs": [],
   "source": []
  },
  {
   "cell_type": "code",
   "execution_count": 85,
   "metadata": {},
   "outputs": [
    {
     "data": {
      "text/plain": [
       "'2.0.0'"
      ]
     },
     "execution_count": 85,
     "metadata": {},
     "output_type": "execute_result"
    }
   ],
   "source": [
    "import tensorflow as tf\n",
    "tf.__version__"
   ]
  },
  {
   "cell_type": "code",
   "execution_count": 87,
   "metadata": {},
   "outputs": [],
   "source": [
    "import tensorflow.keras\n",
    "from tensorflow.keras.models import Sequential\n",
    "from tensorflow.keras.layers import Dense\n",
    "from tensorflow.keras.layers import Dropout"
   ]
  },
  {
   "cell_type": "code",
   "execution_count": 88,
   "metadata": {},
   "outputs": [],
   "source": [
    "classifier = Sequential()\n"
   ]
  },
  {
   "cell_type": "code",
   "execution_count": 91,
   "metadata": {},
   "outputs": [],
   "source": [
    "classifier.add(Dense(units=10, kernel_initializer='he_uniform', activation='relu', input_dim=11))\n",
    "classifier.add(Dense(units = 10, kernel_initializer = 'he_uniform',activation='relu'))\n",
    "classifier.add(Dense(units = 1, kernel_initializer = 'glorot_uniform', activation = 'sigmoid'))\n",
    "\n",
    "\n",
    "classifier.compile(optimizer = 'adam', loss = 'binary_crossentropy', metrics = ['accuracy'])"
   ]
  },
  {
   "cell_type": "code",
   "execution_count": 92,
   "metadata": {},
   "outputs": [
    {
     "name": "stdout",
     "output_type": "stream",
     "text": [
      "Model: \"sequential\"\n",
      "_________________________________________________________________\n",
      "Layer (type)                 Output Shape              Param #   \n",
      "=================================================================\n",
      "dense (Dense)                (None, 10)                120       \n",
      "_________________________________________________________________\n",
      "dense_1 (Dense)              (None, 10)                110       \n",
      "_________________________________________________________________\n",
      "dense_2 (Dense)              (None, 1)                 11        \n",
      "=================================================================\n",
      "Total params: 241\n",
      "Trainable params: 241\n",
      "Non-trainable params: 0\n",
      "_________________________________________________________________\n"
     ]
    }
   ],
   "source": [
    "classifier.summary()"
   ]
  },
  {
   "cell_type": "code",
   "execution_count": 103,
   "metadata": {},
   "outputs": [],
   "source": [
    "X_train = np.asarray(X_train)\n",
    "Y_train = np.asarray(Y_train)\n",
    "X_test = np.asarray(X_test)\n",
    "Y_test = np.asarray(Y_test)"
   ]
  },
  {
   "cell_type": "code",
   "execution_count": 104,
   "metadata": {
    "scrolled": false
   },
   "outputs": [
    {
     "name": "stdout",
     "output_type": "stream",
     "text": [
      "Train on 5359 samples, validate on 2641 samples\n",
      "Epoch 1/100\n",
      "5359/5359 [==============================] - 1s 140us/sample - loss: 0.5753 - accuracy: 0.7341 - val_loss: 0.5393 - val_accuracy: 0.7728\n",
      "Epoch 2/100\n",
      "5359/5359 [==============================] - 0s 18us/sample - loss: 0.5067 - accuracy: 0.7884 - val_loss: 0.4977 - val_accuracy: 0.7853\n",
      "Epoch 3/100\n",
      "5359/5359 [==============================] - 0s 20us/sample - loss: 0.4737 - accuracy: 0.7960 - val_loss: 0.4722 - val_accuracy: 0.7948\n",
      "Epoch 4/100\n",
      "5359/5359 [==============================] - 0s 20us/sample - loss: 0.4516 - accuracy: 0.8037 - val_loss: 0.4550 - val_accuracy: 0.7993\n",
      "Epoch 5/100\n",
      "5359/5359 [==============================] - 0s 20us/sample - loss: 0.4358 - accuracy: 0.8140 - val_loss: 0.4418 - val_accuracy: 0.8111\n",
      "Epoch 6/100\n",
      "5359/5359 [==============================] - 0s 19us/sample - loss: 0.4233 - accuracy: 0.8203 - val_loss: 0.4319 - val_accuracy: 0.8156\n",
      "Epoch 7/100\n",
      "5359/5359 [==============================] - 0s 19us/sample - loss: 0.4140 - accuracy: 0.8240 - val_loss: 0.4242 - val_accuracy: 0.8148\n",
      "Epoch 8/100\n",
      "5359/5359 [==============================] - 0s 19us/sample - loss: 0.4065 - accuracy: 0.8291 - val_loss: 0.4184 - val_accuracy: 0.8171\n",
      "Epoch 9/100\n",
      "5359/5359 [==============================] - 0s 19us/sample - loss: 0.4002 - accuracy: 0.8309 - val_loss: 0.4135 - val_accuracy: 0.8205\n",
      "Epoch 10/100\n",
      "5359/5359 [==============================] - 0s 20us/sample - loss: 0.3950 - accuracy: 0.8339 - val_loss: 0.4088 - val_accuracy: 0.8213\n",
      "Epoch 11/100\n",
      "5359/5359 [==============================] - 0s 21us/sample - loss: 0.3898 - accuracy: 0.8380 - val_loss: 0.4044 - val_accuracy: 0.8258\n",
      "Epoch 12/100\n",
      "5359/5359 [==============================] - 0s 23us/sample - loss: 0.3850 - accuracy: 0.8393 - val_loss: 0.4004 - val_accuracy: 0.8296\n",
      "Epoch 13/100\n",
      "5359/5359 [==============================] - 0s 21us/sample - loss: 0.3808 - accuracy: 0.8399 - val_loss: 0.3970 - val_accuracy: 0.8323\n",
      "Epoch 14/100\n",
      "5359/5359 [==============================] - 0s 23us/sample - loss: 0.3766 - accuracy: 0.8433 - val_loss: 0.3943 - val_accuracy: 0.8334\n",
      "Epoch 15/100\n",
      "5359/5359 [==============================] - 0s 21us/sample - loss: 0.3730 - accuracy: 0.8461 - val_loss: 0.3916 - val_accuracy: 0.8326\n",
      "Epoch 16/100\n",
      "5359/5359 [==============================] - 0s 23us/sample - loss: 0.3703 - accuracy: 0.8451 - val_loss: 0.3887 - val_accuracy: 0.8360\n",
      "Epoch 17/100\n",
      "5359/5359 [==============================] - 0s 21us/sample - loss: 0.3666 - accuracy: 0.8481 - val_loss: 0.3859 - val_accuracy: 0.8368\n",
      "Epoch 18/100\n",
      "5359/5359 [==============================] - 0s 19us/sample - loss: 0.3642 - accuracy: 0.8487 - val_loss: 0.3843 - val_accuracy: 0.8395\n",
      "Epoch 19/100\n",
      "5359/5359 [==============================] - 0s 21us/sample - loss: 0.3617 - accuracy: 0.8496 - val_loss: 0.3820 - val_accuracy: 0.8391\n",
      "Epoch 20/100\n",
      "5359/5359 [==============================] - 0s 22us/sample - loss: 0.3588 - accuracy: 0.8502 - val_loss: 0.3804 - val_accuracy: 0.8425\n",
      "Epoch 21/100\n",
      "5359/5359 [==============================] - 0s 20us/sample - loss: 0.3573 - accuracy: 0.8503 - val_loss: 0.3788 - val_accuracy: 0.8421\n",
      "Epoch 22/100\n",
      "5359/5359 [==============================] - 0s 19us/sample - loss: 0.3549 - accuracy: 0.8517 - val_loss: 0.3771 - val_accuracy: 0.8436\n",
      "Epoch 23/100\n",
      "5359/5359 [==============================] - 0s 21us/sample - loss: 0.3534 - accuracy: 0.8531 - val_loss: 0.3761 - val_accuracy: 0.8429\n",
      "Epoch 24/100\n",
      "5359/5359 [==============================] - 0s 23us/sample - loss: 0.3518 - accuracy: 0.8533 - val_loss: 0.3744 - val_accuracy: 0.8448\n",
      "Epoch 25/100\n",
      "5359/5359 [==============================] - 0s 23us/sample - loss: 0.3498 - accuracy: 0.8569 - val_loss: 0.3733 - val_accuracy: 0.8455\n",
      "Epoch 26/100\n",
      "5359/5359 [==============================] - 0s 19us/sample - loss: 0.3484 - accuracy: 0.8548 - val_loss: 0.3726 - val_accuracy: 0.8459\n",
      "Epoch 27/100\n",
      "5359/5359 [==============================] - 0s 19us/sample - loss: 0.3473 - accuracy: 0.8569 - val_loss: 0.3720 - val_accuracy: 0.8478\n",
      "Epoch 28/100\n",
      "5359/5359 [==============================] - 0s 19us/sample - loss: 0.3463 - accuracy: 0.8576 - val_loss: 0.3709 - val_accuracy: 0.8470\n",
      "Epoch 29/100\n",
      "5359/5359 [==============================] - 0s 20us/sample - loss: 0.3452 - accuracy: 0.8580 - val_loss: 0.3701 - val_accuracy: 0.8485\n",
      "Epoch 30/100\n",
      "5359/5359 [==============================] - 0s 19us/sample - loss: 0.3445 - accuracy: 0.8593 - val_loss: 0.3705 - val_accuracy: 0.8459\n",
      "Epoch 31/100\n",
      "5359/5359 [==============================] - 0s 19us/sample - loss: 0.3436 - accuracy: 0.8589 - val_loss: 0.3692 - val_accuracy: 0.8463\n",
      "Epoch 32/100\n",
      "5359/5359 [==============================] - 0s 19us/sample - loss: 0.3426 - accuracy: 0.8595 - val_loss: 0.3690 - val_accuracy: 0.8482\n",
      "Epoch 33/100\n",
      "5359/5359 [==============================] - 0s 19us/sample - loss: 0.3416 - accuracy: 0.8595 - val_loss: 0.3689 - val_accuracy: 0.8466\n",
      "Epoch 34/100\n",
      "5359/5359 [==============================] - 0s 19us/sample - loss: 0.3414 - accuracy: 0.8606 - val_loss: 0.3685 - val_accuracy: 0.8470\n",
      "Epoch 35/100\n",
      "5359/5359 [==============================] - 0s 20us/sample - loss: 0.3403 - accuracy: 0.8595 - val_loss: 0.3684 - val_accuracy: 0.8482\n",
      "Epoch 36/100\n",
      "5359/5359 [==============================] - 0s 19us/sample - loss: 0.3398 - accuracy: 0.8608 - val_loss: 0.3680 - val_accuracy: 0.8466\n",
      "Epoch 37/100\n",
      "5359/5359 [==============================] - 0s 19us/sample - loss: 0.3394 - accuracy: 0.8597 - val_loss: 0.3680 - val_accuracy: 0.8466\n",
      "Epoch 38/100\n",
      "5359/5359 [==============================] - 0s 25us/sample - loss: 0.3388 - accuracy: 0.8606 - val_loss: 0.3681 - val_accuracy: 0.8478\n",
      "Epoch 39/100\n",
      "5359/5359 [==============================] - 0s 27us/sample - loss: 0.3384 - accuracy: 0.8614 - val_loss: 0.3675 - val_accuracy: 0.8470\n",
      "Epoch 40/100\n",
      "5359/5359 [==============================] - 0s 20us/sample - loss: 0.3385 - accuracy: 0.8608 - val_loss: 0.3673 - val_accuracy: 0.8478\n",
      "Epoch 41/100\n",
      "5359/5359 [==============================] - 0s 20us/sample - loss: 0.3382 - accuracy: 0.8615 - val_loss: 0.3673 - val_accuracy: 0.8459\n",
      "Epoch 42/100\n",
      "5359/5359 [==============================] - 0s 20us/sample - loss: 0.3375 - accuracy: 0.8623 - val_loss: 0.3669 - val_accuracy: 0.8459\n",
      "Epoch 43/100\n",
      "5359/5359 [==============================] - 0s 19us/sample - loss: 0.3375 - accuracy: 0.8614 - val_loss: 0.3671 - val_accuracy: 0.8463\n",
      "Epoch 44/100\n",
      "5359/5359 [==============================] - 0s 19us/sample - loss: 0.3373 - accuracy: 0.8617 - val_loss: 0.3680 - val_accuracy: 0.8463\n",
      "Epoch 45/100\n",
      "5359/5359 [==============================] - 0s 19us/sample - loss: 0.3369 - accuracy: 0.8612 - val_loss: 0.3667 - val_accuracy: 0.8482\n",
      "Epoch 46/100\n",
      "5359/5359 [==============================] - 0s 20us/sample - loss: 0.3365 - accuracy: 0.8627 - val_loss: 0.3665 - val_accuracy: 0.8470\n",
      "Epoch 47/100\n",
      "5359/5359 [==============================] - 0s 20us/sample - loss: 0.3365 - accuracy: 0.8617 - val_loss: 0.3662 - val_accuracy: 0.8489\n",
      "Epoch 48/100\n",
      "5359/5359 [==============================] - 0s 19us/sample - loss: 0.3363 - accuracy: 0.8628 - val_loss: 0.3660 - val_accuracy: 0.8508\n",
      "Epoch 49/100\n",
      "5359/5359 [==============================] - 0s 21us/sample - loss: 0.3362 - accuracy: 0.8608 - val_loss: 0.3659 - val_accuracy: 0.8501\n",
      "Epoch 50/100\n",
      "5359/5359 [==============================] - 0s 22us/sample - loss: 0.3359 - accuracy: 0.8619 - val_loss: 0.3657 - val_accuracy: 0.8504\n",
      "Epoch 51/100\n",
      "5359/5359 [==============================] - 0s 19us/sample - loss: 0.3354 - accuracy: 0.8615 - val_loss: 0.3657 - val_accuracy: 0.8493\n",
      "Epoch 52/100\n",
      "5359/5359 [==============================] - 0s 20us/sample - loss: 0.3351 - accuracy: 0.8612 - val_loss: 0.3650 - val_accuracy: 0.8501\n",
      "Epoch 53/100\n",
      "5359/5359 [==============================] - 0s 21us/sample - loss: 0.3350 - accuracy: 0.8619 - val_loss: 0.3651 - val_accuracy: 0.8489\n",
      "Epoch 54/100\n",
      "5359/5359 [==============================] - 0s 19us/sample - loss: 0.3351 - accuracy: 0.8604 - val_loss: 0.3651 - val_accuracy: 0.8485\n",
      "Epoch 55/100\n",
      "5359/5359 [==============================] - 0s 21us/sample - loss: 0.3342 - accuracy: 0.8619 - val_loss: 0.3665 - val_accuracy: 0.8497\n"
     ]
    },
    {
     "name": "stdout",
     "output_type": "stream",
     "text": [
      "Epoch 56/100\n",
      "5359/5359 [==============================] - 0s 20us/sample - loss: 0.3351 - accuracy: 0.8608 - val_loss: 0.3650 - val_accuracy: 0.8504\n",
      "Epoch 57/100\n",
      "5359/5359 [==============================] - 0s 20us/sample - loss: 0.3343 - accuracy: 0.8617 - val_loss: 0.3643 - val_accuracy: 0.8512\n",
      "Epoch 58/100\n",
      "5359/5359 [==============================] - 0s 21us/sample - loss: 0.3341 - accuracy: 0.8606 - val_loss: 0.3645 - val_accuracy: 0.8493\n",
      "Epoch 59/100\n",
      "5359/5359 [==============================] - 0s 19us/sample - loss: 0.3342 - accuracy: 0.8617 - val_loss: 0.3645 - val_accuracy: 0.8512\n",
      "Epoch 60/100\n",
      "5359/5359 [==============================] - 0s 19us/sample - loss: 0.3340 - accuracy: 0.8619 - val_loss: 0.3638 - val_accuracy: 0.8493\n",
      "Epoch 61/100\n",
      "5359/5359 [==============================] - 0s 19us/sample - loss: 0.3337 - accuracy: 0.8606 - val_loss: 0.3643 - val_accuracy: 0.8497\n",
      "Epoch 62/100\n",
      "5359/5359 [==============================] - 0s 19us/sample - loss: 0.3337 - accuracy: 0.8619 - val_loss: 0.3641 - val_accuracy: 0.8501\n",
      "Epoch 63/100\n",
      "5359/5359 [==============================] - 0s 20us/sample - loss: 0.3330 - accuracy: 0.8612 - val_loss: 0.3642 - val_accuracy: 0.8501\n",
      "Epoch 64/100\n",
      "5359/5359 [==============================] - 0s 21us/sample - loss: 0.3332 - accuracy: 0.8617 - val_loss: 0.3634 - val_accuracy: 0.8493\n",
      "Epoch 65/100\n",
      "5359/5359 [==============================] - 0s 19us/sample - loss: 0.3331 - accuracy: 0.8615 - val_loss: 0.3638 - val_accuracy: 0.8508\n",
      "Epoch 66/100\n",
      "5359/5359 [==============================] - 0s 21us/sample - loss: 0.3328 - accuracy: 0.8621 - val_loss: 0.3635 - val_accuracy: 0.8493\n",
      "Epoch 67/100\n",
      "5359/5359 [==============================] - 0s 22us/sample - loss: 0.3330 - accuracy: 0.8614 - val_loss: 0.3634 - val_accuracy: 0.8497\n",
      "Epoch 68/100\n",
      "5359/5359 [==============================] - 0s 19us/sample - loss: 0.3328 - accuracy: 0.8606 - val_loss: 0.3635 - val_accuracy: 0.8516\n",
      "Epoch 69/100\n",
      "5359/5359 [==============================] - 0s 21us/sample - loss: 0.3326 - accuracy: 0.8614 - val_loss: 0.3632 - val_accuracy: 0.8508\n",
      "Epoch 70/100\n",
      "5359/5359 [==============================] - 0s 21us/sample - loss: 0.3323 - accuracy: 0.8619 - val_loss: 0.3626 - val_accuracy: 0.8501\n",
      "Epoch 71/100\n",
      "5359/5359 [==============================] - 0s 19us/sample - loss: 0.3325 - accuracy: 0.8619 - val_loss: 0.3631 - val_accuracy: 0.8497\n",
      "Epoch 72/100\n",
      "5359/5359 [==============================] - 0s 19us/sample - loss: 0.3323 - accuracy: 0.8619 - val_loss: 0.3629 - val_accuracy: 0.8516\n",
      "Epoch 73/100\n",
      "5359/5359 [==============================] - 0s 19us/sample - loss: 0.3323 - accuracy: 0.8627 - val_loss: 0.3629 - val_accuracy: 0.8516\n",
      "Epoch 74/100\n",
      "5359/5359 [==============================] - 0s 20us/sample - loss: 0.3319 - accuracy: 0.8617 - val_loss: 0.3627 - val_accuracy: 0.8527\n",
      "Epoch 75/100\n",
      "5359/5359 [==============================] - 0s 22us/sample - loss: 0.3317 - accuracy: 0.8627 - val_loss: 0.3630 - val_accuracy: 0.8519\n",
      "Epoch 76/100\n",
      "5359/5359 [==============================] - 0s 20us/sample - loss: 0.3320 - accuracy: 0.8610 - val_loss: 0.3633 - val_accuracy: 0.8508\n",
      "Epoch 77/100\n",
      "5359/5359 [==============================] - 0s 19us/sample - loss: 0.3316 - accuracy: 0.8608 - val_loss: 0.3625 - val_accuracy: 0.8519\n",
      "Epoch 78/100\n",
      "5359/5359 [==============================] - 0s 19us/sample - loss: 0.3314 - accuracy: 0.8623 - val_loss: 0.3627 - val_accuracy: 0.8519\n",
      "Epoch 79/100\n",
      "5359/5359 [==============================] - 0s 19us/sample - loss: 0.3313 - accuracy: 0.8621 - val_loss: 0.3626 - val_accuracy: 0.8531\n",
      "Epoch 80/100\n",
      "5359/5359 [==============================] - 0s 19us/sample - loss: 0.3313 - accuracy: 0.8628 - val_loss: 0.3626 - val_accuracy: 0.8501\n",
      "Epoch 81/100\n",
      "5359/5359 [==============================] - 0s 19us/sample - loss: 0.3314 - accuracy: 0.8625 - val_loss: 0.3624 - val_accuracy: 0.8512\n",
      "Epoch 82/100\n",
      "5359/5359 [==============================] - 0s 19us/sample - loss: 0.3312 - accuracy: 0.8630 - val_loss: 0.3627 - val_accuracy: 0.8531\n",
      "Epoch 83/100\n",
      "5359/5359 [==============================] - 0s 19us/sample - loss: 0.3311 - accuracy: 0.8617 - val_loss: 0.3624 - val_accuracy: 0.8523\n",
      "Epoch 84/100\n",
      "5359/5359 [==============================] - 0s 19us/sample - loss: 0.3311 - accuracy: 0.8612 - val_loss: 0.3625 - val_accuracy: 0.8538\n",
      "Epoch 85/100\n",
      "5359/5359 [==============================] - 0s 19us/sample - loss: 0.3306 - accuracy: 0.8630 - val_loss: 0.3623 - val_accuracy: 0.8508\n",
      "Epoch 86/100\n",
      "5359/5359 [==============================] - 0s 21us/sample - loss: 0.3308 - accuracy: 0.8632 - val_loss: 0.3622 - val_accuracy: 0.8512\n",
      "Epoch 87/100\n",
      "5359/5359 [==============================] - 0s 27us/sample - loss: 0.3311 - accuracy: 0.8628 - val_loss: 0.3622 - val_accuracy: 0.8527\n",
      "Epoch 88/100\n",
      "5359/5359 [==============================] - 0s 25us/sample - loss: 0.3307 - accuracy: 0.8632 - val_loss: 0.3620 - val_accuracy: 0.8523\n",
      "Epoch 89/100\n",
      "5359/5359 [==============================] - 0s 24us/sample - loss: 0.3307 - accuracy: 0.8628 - val_loss: 0.3624 - val_accuracy: 0.8519\n",
      "Epoch 90/100\n",
      "5359/5359 [==============================] - 0s 25us/sample - loss: 0.3306 - accuracy: 0.8632 - val_loss: 0.3620 - val_accuracy: 0.8508\n",
      "Epoch 91/100\n",
      "5359/5359 [==============================] - 0s 23us/sample - loss: 0.3304 - accuracy: 0.8645 - val_loss: 0.3634 - val_accuracy: 0.8508\n",
      "Epoch 92/100\n",
      "5359/5359 [==============================] - 0s 22us/sample - loss: 0.3305 - accuracy: 0.8619 - val_loss: 0.3621 - val_accuracy: 0.8531\n",
      "Epoch 93/100\n",
      "5359/5359 [==============================] - 0s 22us/sample - loss: 0.3305 - accuracy: 0.8636 - val_loss: 0.3625 - val_accuracy: 0.8508\n",
      "Epoch 94/100\n",
      "5359/5359 [==============================] - 0s 22us/sample - loss: 0.3308 - accuracy: 0.8634 - val_loss: 0.3618 - val_accuracy: 0.8523\n",
      "Epoch 95/100\n",
      "5359/5359 [==============================] - 0s 21us/sample - loss: 0.3301 - accuracy: 0.8640 - val_loss: 0.3620 - val_accuracy: 0.8531\n",
      "Epoch 96/100\n",
      "5359/5359 [==============================] - 0s 19us/sample - loss: 0.3303 - accuracy: 0.8628 - val_loss: 0.3624 - val_accuracy: 0.8523\n",
      "Epoch 97/100\n",
      "5359/5359 [==============================] - 0s 20us/sample - loss: 0.3297 - accuracy: 0.8625 - val_loss: 0.3621 - val_accuracy: 0.8519\n",
      "Epoch 98/100\n",
      "5359/5359 [==============================] - 0s 22us/sample - loss: 0.3296 - accuracy: 0.8640 - val_loss: 0.3621 - val_accuracy: 0.8523\n",
      "Epoch 99/100\n",
      "5359/5359 [==============================] - 0s 21us/sample - loss: 0.3298 - accuracy: 0.8634 - val_loss: 0.3623 - val_accuracy: 0.8501\n",
      "Epoch 100/100\n",
      "5359/5359 [==============================] - 0s 23us/sample - loss: 0.3296 - accuracy: 0.8628 - val_loss: 0.3615 - val_accuracy: 0.8538\n"
     ]
    }
   ],
   "source": [
    "model_history=classifier.fit(X_train, Y_train,validation_split=0.33, batch_size = 100,epochs = 100)"
   ]
  },
  {
   "cell_type": "code",
   "execution_count": 116,
   "metadata": {},
   "outputs": [
    {
     "data": {
      "text/plain": [
       "dict_keys(['loss', 'accuracy', 'val_loss', 'val_accuracy'])"
      ]
     },
     "execution_count": 116,
     "metadata": {},
     "output_type": "execute_result"
    }
   ],
   "source": [
    "model_history.history.keys()\n"
   ]
  },
  {
   "cell_type": "code",
   "execution_count": 118,
   "metadata": {},
   "outputs": [
    {
     "data": {
      "text/plain": [
       "[<matplotlib.lines.Line2D at 0x24726837080>]"
      ]
     },
     "execution_count": 118,
     "metadata": {},
     "output_type": "execute_result"
    },
    {
     "data": {
      "image/png": "[encoded data removed]",
      "text/plain": [
       "<Figure size 432x288 with 1 Axes>"
      ]
     },
     "metadata": {
      "needs_background": "light"
     },
     "output_type": "display_data"
    }
   ],
   "source": [
    "plt.plot(model_history.history['accuracy'])\n",
    "plt.plot(model_history.history['val_accuracy'])"
   ]
  },
  {
   "cell_type": "code",
   "execution_count": 120,
   "metadata": {},
   "outputs": [
    {
     "data": {
      "text/plain": [
       "[<matplotlib.lines.Line2D at 0x24726965c18>]"
      ]
     },
     "execution_count": 120,
     "metadata": {},
     "output_type": "execute_result"
    },
    {
     "data": {
      "image/png": "[encoded data removed]",
      "text/plain": [
       "<Figure size 432x288 with 1 Axes>"
      ]
     },
     "metadata": {
      "needs_background": "light"
     },
     "output_type": "display_data"
    }
   ],
   "source": [
    "plt.plot(model_history.history['loss'])\n",
    "plt.plot(model_history.history['val_loss'])"
   ]
  },
  {
   "cell_type": "code",
   "execution_count": 121,
   "metadata": {},
   "outputs": [
    {
     "ename": "NameError",
     "evalue": "name 'Y_pred' is not defined",
     "output_type": "error",
     "traceback": [
      "\u001b[1;31m---------------------------------------------------------------------------\u001b[0m",
      "\u001b[1;31mNameError\u001b[0m                                 Traceback (most recent call last)",
      "\u001b[1;32m<ipython-input-121-b1ba17495cb3>\u001b[0m in \u001b[0;36m<module>\u001b[1;34m\u001b[0m\n\u001b[0;32m      1\u001b[0m \u001b[1;32mfrom\u001b[0m \u001b[0msklearn\u001b[0m\u001b[1;33m.\u001b[0m\u001b[0mmetrics\u001b[0m \u001b[1;32mimport\u001b[0m \u001b[0maccuracy_score\u001b[0m\u001b[1;33m\u001b[0m\u001b[1;33m\u001b[0m\u001b[0m\n\u001b[1;32m----> 2\u001b[1;33m \u001b[0mscore\u001b[0m\u001b[1;33m=\u001b[0m\u001b[0maccuracy_score\u001b[0m\u001b[1;33m(\u001b[0m\u001b[0mY_pred\u001b[0m\u001b[1;33m,\u001b[0m \u001b[0mY_test\u001b[0m\u001b[1;33m)\u001b[0m\u001b[1;33m\u001b[0m\u001b[1;33m\u001b[0m\u001b[0m\n\u001b[0m",
      "\u001b[1;31mNameError\u001b[0m: name 'Y_pred' is not defined"
     ]
    }
   ],
   "source": [
    "from sklearn.metrics import accuracy_score\n",
    "score=accuracy_score(Y_pred, Y_test)"
   ]
  },
  {
   "cell_type": "code",
   "execution_count": null,
   "metadata": {},
   "outputs": [],
   "source": []
  }
 ],
 "metadata": {
  "kernelspec": {
   "display_name": "Python 3",
   "language": "python",
   "name": "python3"
  },
  "language_info": {
   "codemirror_mode": {
    "name": "ipython",
    "version": 3
   },
   "file_extension": ".py",
   "mimetype": "text/x-python",
   "name": "python",
   "nbconvert_exporter": "python",
   "pygments_lexer": "ipython3",
   "version": "3.6.9"
  }
 },
 "nbformat": 4,
 "nbformat_minor": 4
}
